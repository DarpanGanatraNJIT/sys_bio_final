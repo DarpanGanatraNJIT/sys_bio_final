{
 "cells": [
  {
   "cell_type": "code",
   "execution_count": 1,
   "id": "f4fc47ca-4f45-4fdf-acc2-86adf494df37",
   "metadata": {},
   "outputs": [],
   "source": [
    "import numpy as np\n",
    "from scipy.integrate import solve_ivp\n",
    "import matplotlib.pyplot as plt"
   ]
  },
  {
   "cell_type": "code",
   "execution_count": 17,
   "id": "79a81850-a634-413a-bb06-dfe8b122796d",
   "metadata": {},
   "outputs": [],
   "source": [
    "def cmc(t, y, rate_constants, initial_concentrations):\n",
    "    c1, c2, p = y\n",
    "    k1, k11, k2, k3, k33, k4 = rate_constants\n",
    "    e1t, e2t, st = initial_concentrations\n",
    "    e1 = e1t - c1\n",
    "    e2 = e2t - c2\n",
    "    s = st - p - c1 - c2\n",
    "    dc1 = k1*e1*s - (k11 + k2)*c1\n",
    "    dc2 = k3*e2*p - (k33 + k4)*c2\n",
    "    dp =  k2*c1 - k3*e2*p + k33*c2\n",
    "    return [dc1, dc2, dp]\n",
    "\n",
    "T_MAX = 30 \n",
    "\n",
    "# Initial values\n",
    "init_dict = {\"C1\": 0, \"C2\":0, \"P\": 0 }\n",
    "initial_values = [v for v in init_dict.values()]\n",
    "\n",
    "initial_concentrations = {\"E1T\":10, \"E25\":10, \"ST\":3.5}\n",
    "init_conc = [v for v in initial_concentrations.values()]\n",
    "\n",
    "# Rate Constants\n",
    "rate_constant_dict = {\"k1\": 3.5, \"k11\":1, \"k2\":50, \"k3\": 0.3, \"k33\":0.25, \"k4\": 0.25}\n",
    "rate_constants = [i  for i in rate_constant_dict.values()]\n",
    "\n",
    "\n",
    "solution = solve_ivp(\n",
    "    fun=cmc,\n",
    "    t_span=[0, T_MAX],\n",
    "    y0=initial_values,\n",
    "    args=[rate_constants, init_conc],\n",
    "    rtol = 1e-11, \n",
    "    atol = 1e-13,\n",
    "    method = 'BDF', \n",
    "    dense_output = True\n",
    ")\n"
   ]
  },
  {
   "cell_type": "code",
   "execution_count": 29,
   "id": "a7c03e5b-bb49-42a6-93aa-a95f9081e6f4",
   "metadata": {},
   "outputs": [
    {
     "data": {
      "image/png": "[encoded data removed]",
      "text/plain": [
       "<Figure size 432x288 with 1 Axes>"
      ]
     },
     "metadata": {
      "needs_background": "light"
     },
     "output_type": "display_data"
    }
   ],
   "source": [
    "plt.plot(solution.t, solution.y[0], label = \"Complex 1 [C1]\")\n",
    "plt.plot(solution.t, solution.y[1], label = \"Complex 2 [C2]\")\n",
    "plt.plot(solution.t, solution.y[2], label = \"Product [P]\")\n",
    "plt.legend()\n",
    "plt.show()"
   ]
  },
  {
   "cell_type": "code",
   "execution_count": null,
   "id": "7fd38911-47bb-4a44-a2e5-a2dd87905b57",
   "metadata": {},
   "outputs": [],
   "source": []
  }
 ],
 "metadata": {
  "kernelspec": {
   "display_name": "Python 3 (ipykernel)",
   "language": "python",
   "name": "python3"
  },
  "language_info": {
   "codemirror_mode": {
    "name": "ipython",
    "version": 3
   },
   "file_extension": ".py",
   "mimetype": "text/x-python",
   "name": "python",
   "nbconvert_exporter": "python",
   "pygments_lexer": "ipython3",
   "version": "3.8.10"
  }
 },
 "nbformat": 4,
 "nbformat_minor": 5
}
